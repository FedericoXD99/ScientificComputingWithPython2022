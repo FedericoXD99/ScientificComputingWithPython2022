{
 "cells": [
  {
   "cell_type": "markdown",
   "metadata": {},
   "source": [
    "You can solve these exercises in the room or at home. For this week, exercises have to be solved by creating a dedicated `.py` file (or files) called `03ex_numberRepresentation.py`.\n",
    "\n",
    "In case you need multiple files, name them `03ex_numberRepresentation_es01.py`, `03ex_numberRepresentation_es02.py` and so on. In this case, it's convenient to create a dedicated directory, to be named `03ex_numberRepresentation`. \n",
    "\n",
    "The exercises need to run without errors with `python3`."
   ]
  },
  {
   "cell_type": "markdown",
   "metadata": {},
   "source": [
    "1\\. **Number representation**\n",
    "\n",
    "Write a function that converts numbers among the bin, dec, and hex representations (bin<->dec<->hex).\n",
    "Determine the input type in the function, and pass another argument to choose the output representation."
   ]
  },
  {
   "cell_type": "code",
   "execution_count": 47,
   "metadata": {},
   "outputs": [
    {
     "data": {
      "text/plain": [
       "'0b1100100'"
      ]
     },
     "execution_count": 47,
     "metadata": {},
     "output_type": "execute_result"
    }
   ],
   "source": [
    "import sys\n",
    "def typeconverter(in_number,out_repr): #input is a number in the right format (0b,0x,...)\n",
    "    if out_repr=='bin':\n",
    "        conv=bin(in_number)\n",
    "    elif out_repr=='hex':\n",
    "        conv=hex(in_number)\n",
    "    elif out_repr=='dec':\n",
    "        s=str(in_number)\n",
    "        print(s)\n",
    "    else: print(\"Invalid command\")\n",
    "    return conv\n",
    "typeconverter(100, 'bin')"
   ]
  },
  {
   "cell_type": "code",
   "execution_count": 36,
   "metadata": {},
   "outputs": [
    {
     "data": {
      "text/plain": [
       "23"
      ]
     },
     "execution_count": 36,
     "metadata": {},
     "output_type": "execute_result"
    }
   ],
   "source": [
    "int(0b10111)"
   ]
  },
  {
   "cell_type": "markdown",
   "metadata": {},
   "source": [
    "2\\. **32-bit floating point number**\n",
    "\n",
    "Write a function that converts a 32 bit binary string (for example, `110000101011000000000000`) into a single precision floating point in decimal representation. Interpret the various bits as sign, fractional part of the mantissa and exponent, according to the IEEE 754 reccommendations."
   ]
  },
  {
   "cell_type": "code",
   "execution_count": 7,
   "metadata": {},
   "outputs": [
    {
     "data": {
      "text/plain": [
       "-59912.0"
      ]
     },
     "execution_count": 7,
     "metadata": {},
     "output_type": "execute_result"
    }
   ],
   "source": [
    "#prova con calcolo\n",
    "def converter(x):\n",
    "    s = str(x)\n",
    "    \n",
    "    if len(s) == 32: #check that the binary string has 32 bit\n",
    "        l = []\n",
    "        for i in range(32):\n",
    "            l.append(int(s[i])) #create a list with the digits of x\n",
    "        \n",
    "        exponent = -127 \n",
    "        for i in range(1,9):\n",
    "            exponent += l[i]*(2**(8-i)) #extract the exponent\n",
    "        \n",
    "        mantissa = 2 \n",
    "        for i in range(9,len(l)):\n",
    "            mantissa += l[i]*(2**(23-i))  #extract the mantissa\n",
    "            \n",
    "        number = ((-1)**l[0])*mantissa*2**(exponent)\n",
    "        \n",
    "        return number\n",
    "            \n",
    "    else:\n",
    "        print(\"Invalid string (it must have 32 bits!)\")\n",
    "        \n",
    "converter(11000000101110101000000000000000) #test: -5,828125 (wikipedia)"
   ]
  },
  {
   "cell_type": "code",
   "execution_count": 38,
   "metadata": {},
   "outputs": [
    {
     "data": {
      "text/plain": [
       "-5.828125"
      ]
     },
     "execution_count": 38,
     "metadata": {},
     "output_type": "execute_result"
    }
   ],
   "source": [
    "def converter(x):\n",
    "    s = str(x)\n",
    "    \n",
    "    if len(s) == 32: #check that the binary string has 32 bit\n",
    "\n",
    "        exponent = -127 \n",
    "        for i in range(1,9):\n",
    "            exponent += int(s[i])*2**(8-i) #extract the exponent\n",
    "        \n",
    "        mantissa = 1\n",
    "        for i in range(9,len(s)):\n",
    "            mantissa += int(s[i])*2**(8-i) #extract the mantissa\n",
    "          \n",
    "        number_10 = ((-1)**int(s[0]))*mantissa*(2**(exponent)) #resum the number(10) according to the IEEE 754 reccommendations\n",
    "        \n",
    "        return number_10\n",
    "            \n",
    "    else:\n",
    "        print(\"Invalid string (it must have 32 bits!)\")\n",
    "        \n",
    "converter(11000000101110101000000000000000) #test: -5,828125 "
   ]
  },
  {
   "cell_type": "markdown",
   "metadata": {},
   "source": [
    "3\\. **Underflow and overflow**\n",
    "\n",
    "Write a program to determine the underflow and overflow limits (within a factor of 2) for floating point numbers on your computer. \n",
    "\n",
    "*Hint*: define two variables initialized to 1, and halve/double them for a sufficient amount of times to exceed the under/over-flow limits."
   ]
  },
  {
   "cell_type": "code",
   "execution_count": 12,
   "metadata": {},
   "outputs": [
    {
     "name": "stdout",
     "output_type": "stream",
     "text": [
      "Reached underflow limit = 5e-324\n",
      "Reached overflow limit = 8.98846567431158e+307\n"
     ]
    }
   ],
   "source": [
    "under = 1.\n",
    "over = 1.\n",
    "\n",
    "while (under != 0): \n",
    "    under = under/2 \n",
    "    if (under != 0):\n",
    "        #print(under)\n",
    "        u_limit = under\n",
    "    if (under == 0):\n",
    "        print(\"Reached underflow limit =\", u_limit)\n",
    "        \n",
    "while (over != float(\"inf\")):\n",
    "    over = float(over*2)\n",
    "    if (over != float(\"inf\")):\n",
    "        #print(over)\n",
    "        o_limit = over\n",
    "    if (over == float(\"inf\")):\n",
    "        print(\"Reached overflow limit =\", o_limit)\n"
   ]
  },
  {
   "cell_type": "markdown",
   "metadata": {},
   "source": [
    "4\\. **Machine precision**\n",
    "\n",
    "Similarly to the previous exercise, write a program to determine the machine precision for floating point numbers.\n",
    "\n",
    "*Hint*: define a new variable by adding an increasingly smaller value and check when the addition starts to have no effect on the number."
   ]
  },
  {
   "cell_type": "code",
   "execution_count": 37,
   "metadata": {},
   "outputs": [
    {
     "name": "stdout",
     "output_type": "stream",
     "text": [
      "The machine precision for floating point numbers is 5.551115123125783e-17\n"
     ]
    }
   ],
   "source": [
    "start = 0\n",
    "for i in range(100):\n",
    "    check = start\n",
    "    start = start + 2**(-i)\n",
    "    if check == start:\n",
    "        print(\"The machine precision for floating point numbers is\", 2**(-i))\n",
    "        break"
   ]
  },
  {
   "cell_type": "markdown",
   "metadata": {},
   "source": [
    "5\\. **Quadratic solution**\n",
    "\n",
    "Write a function that takes in input three parameters $a$, $b$ and $c$ and prints out the two solutions to the quadratic equation $ax^2+bx+c=0$ using the standard formula:\n",
    "$$\n",
    "x=\\frac{-b\\pm\\sqrt{b^2-4ac}}{2a}\n",
    "$$\n",
    "\n",
    "(a) use the function to compute the solution for $a=0.001$, $b=1000$ and $c=0.001$\n",
    "\n",
    "(b) re-express the standard solution formula by multiplying the numerator and the denominator by $-b\\mp\\sqrt{b^2-4ac}$ and again find the solution for $a=0.001$, $b=1000$ and $c=0.001$. How does it compare with what has been previously obtained, and why? (add the answer to a Python comment)\n",
    "\n",
    "(c) write a function that computes the roots of a quadratic equation accurately in all cases"
   ]
  },
  {
   "cell_type": "code",
   "execution_count": 1,
   "metadata": {},
   "outputs": [
    {
     "name": "stdout",
     "output_type": "stream",
     "text": [
      "x1 = -9.999894245993346e-07 \n",
      " x2 = -999999.999999\n",
      "x1 = -9.999894245993346e-07 \n",
      " x2 = -999999.9999990001\n",
      "x1 = -1.0000000000009999e-06 \n",
      " x2 = -1000010.5755125057\n"
     ]
    }
   ],
   "source": [
    "import math\n",
    "\n",
    "def q_solution(a, b, c):\n",
    "    print(\"x1 =\", ((-b + math.sqrt(b**2-4*a*c))/(2*a)), \"\\n\",\n",
    "          \"x2 =\", ((-b - math.sqrt(b**2-4*a*c))/(2*a)))\n",
    "    \n",
    "    print(\"x1 =\", ((-b + math.sqrt(b**2-4*a*c))*(-b - math.sqrt(b**2-4*a*c)))/(2*a*(-b - math.sqrt(b**2-4*a*c))), \"\\n\",\n",
    "          \"x2 =\", ((-b + math.sqrt(b**2-4*a*c))*(-b - math.sqrt(b**2-4*a*c)))/(2*a*(-b + math.sqrt(b**2-4*a*c))))\n",
    "    \n",
    "    print(\"x1 =\", (4*a*c)/(2*a*(-b - math.sqrt(b**2-4*a*c))), \"\\n\",\n",
    "          \"x2 =\", (4*a*c)/(2*a*(-b + math.sqrt(b**2-4*a*c))))\n",
    "q_solution(0.001, 1000, 0.001)"
   ]
  },
  {
   "cell_type": "code",
   "execution_count": 17,
   "metadata": {},
   "outputs": [
    {
     "name": "stdout",
     "output_type": "stream",
     "text": [
      "999.999999998\n",
      "-1.999978849198669e-09\n",
      "-4.999947122996673e-07\n"
     ]
    },
    {
     "data": {
      "text/plain": [
       "-5500058165.318781"
      ]
     },
     "execution_count": 17,
     "metadata": {},
     "output_type": "execute_result"
    }
   ],
   "source": [
    "\n",
    "d = 1000**2-4*0.001*0.001\n",
    "print(math.sqrt(d))\n",
    "k=-1000+math.sqrt(d)\n",
    "print(k)\n",
    "x=k/(2*0.002)\n",
    "print(x)\n",
    "\n"
   ]
  },
  {
   "cell_type": "code",
   "execution_count": 131,
   "metadata": {},
   "outputs": [
    {
     "name": "stdout",
     "output_type": "stream",
     "text": [
      "x1 = -9.999894245993346e-07 \n",
      " x2 = -999999.999999\n"
     ]
    }
   ],
   "source": [
    "import math\n",
    "##testare i vari termini della formula: roundoff error, ma mi sa che qualcosa è troppo simile\n",
    "def q_solution(a, b, c):\n",
    "    d = b*b-4*a*c\n",
    "    if (d<0):\n",
    "        print(\"Impossible in real field\")\n",
    "    if (d == 0):\n",
    "        print(\"x =\", (-b)/(2*a))\n",
    "    else:\n",
    "        print(\"x1 =\", (-b+math.sqrt(d))/(2*a), \"\\n\",\n",
    "          \"x2 =\", (-b-math.sqrt(d))/(2*a))\n",
    "q_solution(0.001, 1000, 0.001)"
   ]
  },
  {
   "cell_type": "markdown",
   "metadata": {},
   "source": [
    "6\\. **The derivative**\n",
    "\n",
    "Write a program that implements the function $f(x)=x(x−1)$\n",
    "\n",
    "(a) Calculate the derivative of the function at the point $x = 1$ using the derivative definition:\n",
    "\n",
    "$$\n",
    "\\frac{{\\rm d}f}{{\\rm d}x} = \\lim_{\\delta\\to0} \\frac{f(x+\\delta)-f(x)}{\\delta}\n",
    "$$\n",
    "\n",
    "with $\\delta = 10^{−2}$. Calculate the true value of the same derivative analytically and compare it with the answer your program gives. The two will not agree perfectly. Why?\n",
    "\n",
    "(b) Repeat the calculation for $\\delta = 10^{−4}, 10^{−6}, 10^{−8}, 10^{−10}, 10^{−12}$ and $10^{−14}$. How does the accuracy scale with $\\delta$?"
   ]
  },
  {
   "cell_type": "code",
   "execution_count": 125,
   "metadata": {},
   "outputs": [
    {
     "name": "stdout",
     "output_type": "stream",
     "text": [
      "derivative: analytic calculation. f'(x) = 2x-1\n",
      "f'(1) = 1\n",
      "delta = 0.01    f'_num = 1.010000000000001     accuracy = 0.010000000000000897\n",
      "delta = 0.0001    f'_num = 1.0000999999998899     accuracy = 9.999999988985486e-05\n",
      "delta = 1e-06    f'_num = 1.0000009999177333     accuracy = 9.99917733279787e-07\n",
      "delta = 1e-08    f'_num = 1.0000000039225287     accuracy = 3.922528746258536e-09\n",
      "delta = 1e-10    f'_num = 1.000000082840371     accuracy = 8.284037100736441e-08\n",
      "delta = 1e-12    f'_num = 1.0000889005833413     accuracy = 8.890058334132256e-05\n",
      "delta = 1e-14    f'_num = 0.9992007221626509     accuracy = -0.0007992778373491216\n"
     ]
    }
   ],
   "source": [
    "def f(x): \n",
    "    return x*(x-1)\n",
    "def numder_f(x, d):\n",
    "    return (f(x+d)-f(x))/d\n",
    "print(\"derivative: analytic calculation. f'(x) = 2x-1\\n\"\n",
    "      \"f'(1) =\", 1)    \n",
    "for i in range(2,16,2):\n",
    "    print(\"delta =\", 10**(-i),\"  \", \"f'_num =\",numder_f(1, 10**(-i)), \"   \",\"accuracy =\", (numder_f(1, 10**(-i))-1))\n",
    "    \n",
    "#the analytic and numerical results do not agree: this is due to the fact that the analytic definition of derivative is built on the\n",
    "#the limit for delta-> 0, which is incompatible with the finite precision of float operations.\n",
    "#As one can see, the accuracy of the calculation has a maximum for delta = 1e-08, then decreases"
   ]
  },
  {
   "cell_type": "markdown",
   "metadata": {},
   "source": [
    "7\\. **Integral of a semicircle**\n",
    "\n",
    "Consider the integral of the semicircle of radius 1:\n",
    "$$\n",
    "I=\\int_{-1}^{1} \\sqrt(1-x^2) {\\rm d}x\n",
    "$$\n",
    "which is known to be $I=\\frac{\\pi}{2}=1.57079632679...$.\n",
    "\n",
    "Alternatively we can use the Riemann definition of the integral:\n",
    "$$\n",
    "I=\\lim_{N\\to\\infty} \\sum_{k=1}^{N} h y_k \n",
    "$$\n",
    "\n",
    "with $h=2/N$ the width of each of the $N$ slices the domain is divided into and where\n",
    "$y_k$ is the value of the function at the $k-$th slice.\n",
    "\n",
    "(a) Write a program to compute the integral with $N=100$. How does the result compare to the true value?\n",
    "\n",
    "(b) How much can $N$ be increased if the computation needs to be run in less than a second? What is the gain in running it for 1 minute? Use `timeit` to measure the time."
   ]
  },
  {
   "cell_type": "code",
   "execution_count": 2,
   "metadata": {},
   "outputs": [
    {
     "name": "stdout",
     "output_type": "stream",
     "text": [
      "Known value of the integral: I = 1.5707963267948966 \n",
      "\n",
      "Numerical value (for N=100) = 1.5691342555492502 with computation time 0.00019980000001851295\n",
      "The difference from the known value is -0.0016620712456463238 \n",
      "\n",
      "With few tests on the computation time one can see that if the code has to be run in less than a second, N can be increased to an approximate value of N=1570000\n",
      "Numerical value (for N=1570000) = 1.5707963259495057 with computation time 0.9241956999999843 \n",
      "The difference between the known value is -8.453908684202815e-10 \n",
      "\n",
      "If instead the code has to be run in less than a minute, N can be increased to an approximate value of N=90000000\n"
     ]
    },
    {
     "ename": "KeyboardInterrupt",
     "evalue": "",
     "output_type": "error",
     "traceback": [
      "\u001b[1;31m---------------------------------------------------------------------------\u001b[0m",
      "\u001b[1;31mKeyboardInterrupt\u001b[0m                         Traceback (most recent call last)",
      "Input \u001b[1;32mIn [2]\u001b[0m, in \u001b[0;36m<cell line: 22>\u001b[1;34m()\u001b[0m\n\u001b[0;32m     19\u001b[0m \u001b[38;5;28mprint\u001b[39m(\u001b[38;5;124m\"\u001b[39m\u001b[38;5;124mNumerical value (for N=1570000) =\u001b[39m\u001b[38;5;124m\"\u001b[39m, I(\u001b[38;5;241m1570000\u001b[39m), \u001b[38;5;124m\"\u001b[39m\u001b[38;5;124mwith computation time\u001b[39m\u001b[38;5;124m\"\u001b[39m, timeit\u001b[38;5;241m.\u001b[39mdefault_timer() \u001b[38;5;241m-\u001b[39m starttime, \u001b[38;5;124m\"\u001b[39m\u001b[38;5;130;01m\\n\u001b[39;00m\u001b[38;5;124mThe difference between the known value is\u001b[39m\u001b[38;5;124m\"\u001b[39m, I(\u001b[38;5;241m1570000\u001b[39m)\u001b[38;5;241m-\u001b[39mmath\u001b[38;5;241m.\u001b[39mpi\u001b[38;5;241m/\u001b[39m\u001b[38;5;241m2\u001b[39m, \u001b[38;5;124m\"\u001b[39m\u001b[38;5;130;01m\\n\u001b[39;00m\u001b[38;5;124m\"\u001b[39m)\n\u001b[0;32m     21\u001b[0m \u001b[38;5;28mprint\u001b[39m(\u001b[38;5;124m\"\u001b[39m\u001b[38;5;124mIf instead the code has to be run in less than a minute, N can be increased to an approximate value of N=90000000\u001b[39m\u001b[38;5;124m\"\u001b[39m)\n\u001b[1;32m---> 22\u001b[0m \u001b[38;5;28mprint\u001b[39m(\u001b[38;5;124m\"\u001b[39m\u001b[38;5;124mNumerical value (for N=90000000) =\u001b[39m\u001b[38;5;124m\"\u001b[39m, \u001b[43mI\u001b[49m\u001b[43m(\u001b[49m\u001b[38;5;241;43m90000000\u001b[39;49m\u001b[43m)\u001b[49m, \u001b[38;5;124m\"\u001b[39m\u001b[38;5;124mwith computation time\u001b[39m\u001b[38;5;124m\"\u001b[39m, timeit\u001b[38;5;241m.\u001b[39mdefault_timer() \u001b[38;5;241m-\u001b[39m starttime, \u001b[38;5;124m\"\u001b[39m\u001b[38;5;130;01m\\n\u001b[39;00m\u001b[38;5;124mThe difference from the known value is\u001b[39m\u001b[38;5;124m\"\u001b[39m, I(\u001b[38;5;241m90000000\u001b[39m)\u001b[38;5;241m-\u001b[39mmath\u001b[38;5;241m.\u001b[39mpi\u001b[38;5;241m/\u001b[39m\u001b[38;5;241m2\u001b[39m, \u001b[38;5;124m\"\u001b[39m\u001b[38;5;130;01m\\n\u001b[39;00m\u001b[38;5;124m\"\u001b[39m)\n",
      "Input \u001b[1;32mIn [2]\u001b[0m, in \u001b[0;36mI\u001b[1;34m(N)\u001b[0m\n\u001b[0;32m      9\u001b[0m \u001b[38;5;28;01mfor\u001b[39;00m k \u001b[38;5;129;01min\u001b[39;00m \u001b[38;5;28mrange\u001b[39m(N):\n\u001b[0;32m     10\u001b[0m     h \u001b[38;5;241m+\u001b[39m\u001b[38;5;241m=\u001b[39m \u001b[38;5;241m2\u001b[39m\n\u001b[1;32m---> 11\u001b[0m     integral \u001b[38;5;241m+\u001b[39m\u001b[38;5;241m=\u001b[39m (\u001b[38;5;241m2\u001b[39m\u001b[38;5;241m/\u001b[39mN)\u001b[38;5;241m*\u001b[39m(\u001b[43mmath\u001b[49m\u001b[38;5;241;43m.\u001b[39;49m\u001b[43msqrt\u001b[49m\u001b[43m(\u001b[49m\u001b[43m(\u001b[49m\u001b[43mN\u001b[49m\u001b[38;5;241;43m*\u001b[39;49m\u001b[43mN\u001b[49m\u001b[43m)\u001b[49m\u001b[38;5;241;43m-\u001b[39;49m\u001b[43mh\u001b[49m\u001b[38;5;241;43m*\u001b[39;49m\u001b[43mh\u001b[49m\u001b[43m)\u001b[49m\u001b[38;5;241;43m/\u001b[39;49m\u001b[43mN\u001b[49m)\n\u001b[0;32m     12\u001b[0m \u001b[38;5;28;01mreturn\u001b[39;00m integral\n",
      "\u001b[1;31mKeyboardInterrupt\u001b[0m: "
     ]
    }
   ],
   "source": [
    "import math\n",
    "import timeit\n",
    "\n",
    "print(\"Known value of the integral: I =\", math.pi/2, \"\\n\")\n",
    "\n",
    "def I(N):\n",
    "    h = -1*N #go to integer range to remove roundoff errors (which lead to problems in sqrt math domain)\n",
    "    integral = 0\n",
    "    for k in range(N):\n",
    "        h += 2\n",
    "        integral += (2/N)*(math.sqrt((N*N)-h*h)/N)\n",
    "    return integral\n",
    "    \n",
    "starttime = timeit.default_timer()\n",
    "print(\"Numerical value (for N=100) =\", I(100), \"with computation time\", timeit.default_timer() - starttime)\n",
    "print(\"The difference from the known value is\", I(100)-math.pi/2, \"\\n\")\n",
    "starttime = timeit.default_timer()\n",
    "print(\"With few tests on the computation time one can see that if the code has to be run in less than a second, N can be increased to an approximate value of N=1570000\")\n",
    "print(\"Numerical value (for N=1570000) =\", I(1570000), \"with computation time\", timeit.default_timer() - starttime, \"\\nThe difference between the known value is\", I(1570000)-math.pi/2, \"\\n\")\n",
    "\n",
    "print(\"If instead the code has to be run in less than a minute, N can be increased to an approximate value of N=90000000\")\n",
    "print(\"Numerical value (for N=90000000) =\", I(90000000), \"with computation time\", timeit.default_timer() - starttime, \"\\nThe difference from the known value is\", I(90000000)-math.pi/2, \"\\n\")\n",
    "\n",
    "\n",
    "\n"
   ]
  },
  {
   "cell_type": "code",
   "execution_count": null,
   "metadata": {},
   "outputs": [],
   "source": []
  },
  {
   "cell_type": "code",
   "execution_count": null,
   "metadata": {},
   "outputs": [],
   "source": []
  }
 ],
 "metadata": {
  "kernelspec": {
   "display_name": "Python 3 (ipykernel)",
   "language": "python",
   "name": "python3"
  },
  "language_info": {
   "codemirror_mode": {
    "name": "ipython",
    "version": 3
   },
   "file_extension": ".py",
   "mimetype": "text/x-python",
   "name": "python",
   "nbconvert_exporter": "python",
   "pygments_lexer": "ipython3",
   "version": "3.9.12"
  }
 },
 "nbformat": 4,
 "nbformat_minor": 2
}
